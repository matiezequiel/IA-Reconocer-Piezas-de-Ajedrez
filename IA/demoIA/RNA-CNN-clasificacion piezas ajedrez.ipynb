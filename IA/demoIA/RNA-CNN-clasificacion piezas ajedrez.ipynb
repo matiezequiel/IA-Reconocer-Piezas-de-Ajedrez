{
  "cells": [
    {
      "cell_type": "markdown",
      "metadata": {
        "id": "x4HI2mpwlrcn"
      },
      "source": [
        "##### Copyright 2019 The TensorFlow Authors."
      ]
    },
    {
      "cell_type": "code",
      "execution_count": null,
      "metadata": {
        "cellView": "form",
        "id": "679Lmwt3l1Bk"
      },
      "outputs": [],
      "source": [
        "#@title Licensed under the Apache License, Version 2.0 (the \"License\");\n",
        "# you may not use this file except in compliance with the License.\n",
        "# You may obtain a copy of the License at\n",
        "#\n",
        "# https://www.apache.org/licenses/LICENSE-2.0\n",
        "#\n",
        "# Unless required by applicable law or agreed to in writing, software\n",
        "# distributed under the License is distributed on an \"AS IS\" BASIS,\n",
        "# WITHOUT WARRANTIES OR CONDITIONS OF ANY KIND, either express or implied.\n",
        "# See the License for the specific language governing permissions and\n",
        "# limitations under the License."
      ]
    },
    {
      "cell_type": "markdown",
      "metadata": {
        "id": "DSPCom-KmApV"
      },
      "source": [
        "# Convolutional Neural Network (CNN)"
      ]
    },
    {
      "cell_type": "markdown",
      "source": [
        ""
      ],
      "metadata": {
        "id": "uQiRCJD9HUDD"
      }
    },
    {
      "cell_type": "markdown",
      "metadata": {
        "id": "klAltGp8ycek"
      },
      "source": [
        "<table class=\"tfo-notebook-buttons\" align=\"left\">\n",
        "  <td>\n",
        "    <a target=\"_blank\" href=\"https://www.tensorflow.org/tutorials/images/cnn\">\n",
        "    <img src=\"https://www.tensorflow.org/images/tf_logo_32px.png\" />\n",
        "    View on TensorFlow.org</a>\n",
        "  </td>\n",
        "  <td>\n",
        "    <a target=\"_blank\" href=\"https://colab.research.google.com/github/tensorflow/docs/blob/master/site/en/tutorials/images/cnn.ipynb\">\n",
        "    <img src=\"https://www.tensorflow.org/images/colab_logo_32px.png\" />\n",
        "    Run in Google Colab</a>\n",
        "  </td>\n",
        "  <td>\n",
        "    <a target=\"_blank\" href=\"https://github.com/tensorflow/docs/blob/master/site/en/tutorials/images/cnn.ipynb\">\n",
        "    <img src=\"https://www.tensorflow.org/images/GitHub-Mark-32px.png\" />\n",
        "    View source on GitHub</a>\n",
        "  </td>\n",
        "  <td>\n",
        "    <a href=\"https://storage.googleapis.com/tensorflow_docs/docs/site/en/tutorials/images/cnn.ipynb\"><img src=\"https://www.tensorflow.org/images/download_logo_32px.png\" />Download notebook</a>\n",
        "  </td>\n",
        "</table>"
      ]
    },
    {
      "cell_type": "markdown",
      "metadata": {
        "id": "qLGkt5qiyz4E"
      },
      "source": [
        "This tutorial demonstrates training a simple [Convolutional Neural Network](https://developers.google.com/machine-learning/glossary/#convolutional_neural_network) (CNN) to classify [CIFAR images](https://www.cs.toronto.edu/~kriz/cifar.html). Because this tutorial uses the [Keras Sequential API](https://www.tensorflow.org/guide/keras/overview), creating and training your model will take just a few lines of code.\n"
      ]
    },
    {
      "cell_type": "markdown",
      "metadata": {
        "id": "m7KBpffWzlxH"
      },
      "source": [
        "### Import TensorFlow"
      ]
    },
    {
      "cell_type": "code",
      "execution_count": null,
      "metadata": {
        "id": "iAve6DCL4JH4"
      },
      "outputs": [],
      "source": [
        "import tensorflow as tf\n",
        "\n",
        "from tensorflow.keras import datasets, layers, models\n",
        "import matplotlib.pyplot as plt\n",
        "\n",
        "from PIL import Image\n",
        "import os\n",
        "import numpy as np\n",
        "import pandas as pd\n",
        "\n",
        "from  sklearn.metrics import classification_report\n",
        "from sklearn.metrics import confusion_matrix"
      ]
    },
    {
      "cell_type": "markdown",
      "metadata": {
        "id": "jRFxccghyMVo"
      },
      "source": [
        "### Download and prepare the CIFAR10 dataset\n",
        "\n",
        "\n",
        "The CIFAR10 dataset contains 60,000 color images in 10 classes, with 6,000 images in each class. The dataset is divided into 50,000 training images and 10,000 testing images. The classes are mutually exclusive and there is no overlap between them."
      ]
    },
    {
      "cell_type": "code",
      "execution_count": null,
      "metadata": {
        "id": "JWoEqyMuXFF4",
        "colab": {
          "base_uri": "https://localhost:8080/"
        },
        "outputId": "04adfbb9-56a2-4953-e722-4909189a4338"
      },
      "outputs": [
        {
          "output_type": "stream",
          "name": "stdout",
          "text": [
            "Mounted at /content/gdrive\n"
          ]
        }
      ],
      "source": [
        "\n",
        "IMG_SIZE = 128\n",
        "\n",
        "def cargarImagenes(imagPath):\n",
        "  classes_ori = [] \n",
        "  images_ori = []\n",
        "  esDA_ori = []\n",
        "  usarDA = True\n",
        "  all_dirs = os.listdir( imagPath )\n",
        "  for each_dir in all_dirs:\n",
        "\n",
        "      auxiPath = imagPath + '/' + each_dir \n",
        "      imagFN  = os.listdir( auxiPath )\n",
        "      for each_imagFN in imagFN:\n",
        "\n",
        "            esImagDA = (each_imagFN[:2] == 'da')\n",
        "            \n",
        "            if usarDA or (not esImagDA): \n",
        "                \n",
        "                # abre la imagen\n",
        "                imag = Image.open(auxiPath + \"/\" + each_imagFN)\n",
        "                \n",
        "                # ajusta el tamaño             \n",
        "                tipoImage = 'RGB'\n",
        "                imag = imag.convert(tipoImage)\n",
        "                imag = imag.resize((IMG_SIZE, IMG_SIZE), Image.ANTIALIAS)          \n",
        "                \n",
        "                # transforma a un vector de nros\n",
        "                arImag = np.array(imag)\n",
        "                \n",
        "                # agrega a los vectores\n",
        "                pepe = -1\n",
        "                if each_dir == 'Bishop':\n",
        "                  pepe = 0\n",
        "                if each_dir == 'King':\n",
        "                  pepe = 1\n",
        "                if each_dir == 'Knight':\n",
        "                  pepe = 2\n",
        "                if each_dir == 'Pawn':\n",
        "                  pepe = 3\n",
        "                if each_dir == 'Queen':\n",
        "                  pepe = 4\n",
        "                if each_dir == 'Rook':\n",
        "                  pepe = 5\n",
        "\n",
        "                classes_ori.append( [pepe] )\n",
        "                images_ori.append( arImag )\n",
        "                esDA_ori.append( esImagDA )\n",
        "\n",
        "  return classes_ori, images_ori, esDA_ori, tipoImage\n",
        "\n",
        "def prepare_imageList(imagList):    \n",
        "  auxiAr = np.array(imagList).astype('float32') / 255.\n",
        "  auxiAr = auxiAr.reshape((len(auxiAr), IMG_SIZE*IMG_SIZE*3))  \n",
        "  return np.array(auxiAr)\n",
        "\n",
        "from google.colab import drive\n",
        "drive.mount('/content/gdrive', force_remount=True)\n",
        "\n",
        "# directorio local en Google Drive\n",
        "path = 'gdrive/My Drive/IA/demoIA/imagenesAjedrez' #@param {type:\"string\"}\n",
        "path_entrenamiento = '/train'  #@param {type:\"string\"}\n",
        "path_prueba = '/test'  #@param {type:\"string\"}\n",
        "\n",
        "imagPath_train = path + path_entrenamiento\n",
        "imagPath_test = path + path_prueba\n",
        "\n",
        "classes_train, images_train, esDAimag_train, tipoImage_train = cargarImagenes(imagPath_train)\n",
        "\n",
        "classes_test, images_test, esDAimag_test, tipoImage_test = cargarImagenes(imagPath_test)\n",
        "\n",
        "# (train_images, train_labels), (test_images, test_labels) = datasets.cifar10.load_data()\n",
        "\n",
        "train_images = np.array(images_train).reshape(-1, IMG_SIZE, IMG_SIZE, 3) # prepare_imageList(images_train)\n",
        "train_labels = classes_train\n",
        "test_images = np.array(images_test).reshape(-1, IMG_SIZE, IMG_SIZE, 3) # prepare_imageList(images_test)\n",
        "test_labels = classes_test\n",
        "\n",
        "# Normalize pixel values to be between 0 and 1\n",
        "train_images, test_images = train_images / 255.0, test_images / 255.0"
      ]
    },
    {
      "cell_type": "markdown",
      "metadata": {
        "id": "7wArwCTJJlUa"
      },
      "source": [
        "### Verify the data\n",
        "\n",
        "To verify that the dataset looks correct, let's plot the first 25 images from the training set and display the class name below each image:\n"
      ]
    },
    {
      "cell_type": "code",
      "execution_count": null,
      "metadata": {
        "id": "K3PAELE2eSU9"
      },
      "outputs": [],
      "source": [
        "class_names = ['Bishop', 'King', 'Knight', 'Pawn', 'Queen', 'Rook']\n",
        "\n",
        "# plt.figure(figsize=(10,10))\n",
        "# for i in range(25):\n",
        "#     plt.subplot(5,5,i+1)\n",
        "#     plt.xticks([])\n",
        "#     plt.yticks([])\n",
        "#     plt.grid(False)\n",
        "#     plt.imshow(train_images[i])\n",
        "#     # The CIFAR labels happen to be arrays, \n",
        "#     # which is why you need the extra index\n",
        "#     plt.xlabel(class_names[train_labels[i][0]])\n",
        "# plt.show()"
      ]
    },
    {
      "cell_type": "markdown",
      "metadata": {
        "id": "Oewp-wYg31t9"
      },
      "source": [
        "### Create the convolutional base"
      ]
    },
    {
      "cell_type": "markdown",
      "metadata": {
        "id": "3hQvqXpNyN3x"
      },
      "source": [
        "The 6 lines of code below define the convolutional base using a common pattern: a stack of [Conv2D](https://www.tensorflow.org/api_docs/python/tf/keras/layers/Conv2D) and [MaxPooling2D](https://www.tensorflow.org/api_docs/python/tf/keras/layers/MaxPool2D) layers.\n",
        "\n",
        "As input, a CNN takes tensors of shape (image_height, image_width, color_channels), ignoring the batch size. If you are new to these dimensions, color_channels refers to (R,G,B). In this example, you will configure your CNN to process inputs of shape (32, 32, 3), which is the format of CIFAR images. You can do this by passing the argument `input_shape` to your first layer.\n"
      ]
    },
    {
      "cell_type": "code",
      "execution_count": null,
      "metadata": {
        "id": "L9YmGQBQPrdn"
      },
      "outputs": [],
      "source": [
        "model = models.Sequential()\n",
        "model.add(layers.Conv2D(32, (3, 3), activation='relu', input_shape=(IMG_SIZE, IMG_SIZE, 3)))\n",
        "model.add(layers.MaxPooling2D((2, 2)))\n",
        "model.add(layers.Conv2D(64, (3, 3), activation='relu'))\n",
        "model.add(layers.MaxPooling2D((2, 2)))\n",
        "model.add(layers.Conv2D(128, (3, 3), activation='relu'))\n",
        "model.add(layers.MaxPooling2D((2, 2)))\n",
        "model.add(layers.Conv2D(256, (5, 5), activation='relu'))\n",
        "\n",
        "# model = models.Sequential()\n",
        "# model.add(layers.Conv2D(16, (5, 5), activation='relu', input_shape=(IMG_SIZE, IMG_SIZE, 3)))\n",
        "# model.add(layers.Conv2D(32, (3, 3), activation='relu'))\n",
        "# model.add(layers.Conv2D(32, (3, 3), activation='relu'))\n",
        "\n",
        "# # model.add(layers.Conv2D(32, (3, 3), activation='relu'))\n",
        "# # model.add(layers.MaxPooling2D((2, 2)))\n",
        "# # model.add(layers.Dropout(0.2))\n",
        "\n",
        "# model.add(layers.Conv2D(32, (5, 5), activation='relu'))\n",
        "# model.add(layers.Conv2D(64, (3, 3), activation='relu'))\n",
        "# model.add(layers.Conv2D(94, (3, 3), activation='relu'))\n",
        "\n",
        "# model.add(layers.Conv2D(64, (3, 3), activation='relu'))\n",
        "# model.add(layers.MaxPooling2D((2, 2)))\n",
        "# model.add(layers.BatchNormalization(momentum=0.3))\n",
        "# model.add(layers.Dropout(0.2))\n"
      ]
    },
    {
      "cell_type": "code",
      "source": [
        ""
      ],
      "metadata": {
        "id": "-v9QZRwL2qjh"
      },
      "execution_count": null,
      "outputs": []
    },
    {
      "cell_type": "markdown",
      "metadata": {
        "id": "lvDVFkg-2DPm"
      },
      "source": [
        "Let's display the architecture of your model so far:"
      ]
    },
    {
      "cell_type": "code",
      "execution_count": null,
      "metadata": {
        "id": "8-C4XBg4UTJy",
        "colab": {
          "base_uri": "https://localhost:8080/"
        },
        "outputId": "43d62078-3e77-4dec-faa4-1ded68612f52"
      },
      "outputs": [
        {
          "output_type": "stream",
          "name": "stdout",
          "text": [
            "Model: \"sequential_3\"\n",
            "_________________________________________________________________\n",
            " Layer (type)                Output Shape              Param #   \n",
            "=================================================================\n",
            " conv2d_13 (Conv2D)          (None, 126, 126, 32)      896       \n",
            "                                                                 \n",
            " max_pooling2d_9 (MaxPooling  (None, 63, 63, 32)       0         \n",
            " 2D)                                                             \n",
            "                                                                 \n",
            " conv2d_14 (Conv2D)          (None, 61, 61, 64)        18496     \n",
            "                                                                 \n",
            " max_pooling2d_10 (MaxPoolin  (None, 30, 30, 64)       0         \n",
            " g2D)                                                            \n",
            "                                                                 \n",
            " conv2d_15 (Conv2D)          (None, 28, 28, 128)       73856     \n",
            "                                                                 \n",
            " max_pooling2d_11 (MaxPoolin  (None, 14, 14, 128)      0         \n",
            " g2D)                                                            \n",
            "                                                                 \n",
            " conv2d_16 (Conv2D)          (None, 10, 10, 256)       819456    \n",
            "                                                                 \n",
            "=================================================================\n",
            "Total params: 912,704\n",
            "Trainable params: 912,704\n",
            "Non-trainable params: 0\n",
            "_________________________________________________________________\n"
          ]
        }
      ],
      "source": [
        "model.summary()"
      ]
    },
    {
      "cell_type": "markdown",
      "metadata": {
        "id": "_j-AXYeZ2GO5"
      },
      "source": [
        "Above, you can see that the output of every Conv2D and MaxPooling2D layer is a 3D tensor of shape (height, width, channels). The width and height dimensions tend to shrink as you go deeper in the network. The number of output channels for each Conv2D layer is controlled by the first argument (e.g., 32 or 64). Typically,  as the width and height shrink, you can afford (computationally) to add more output channels in each Conv2D layer."
      ]
    },
    {
      "cell_type": "markdown",
      "metadata": {
        "id": "_v8sVOtG37bT"
      },
      "source": [
        "### Add Dense layers on top\n",
        "\n",
        "To complete the model, you will feed the last output tensor from the convolutional base (of shape (4, 4, 64)) into one or more Dense layers to perform classification. Dense layers take vectors as input (which are 1D), while the current output is a 3D tensor. First, you will flatten (or unroll) the 3D output to 1D,  then add one or more Dense layers on top. CIFAR has 10 output classes, so you use a final Dense layer with 10 outputs."
      ]
    },
    {
      "cell_type": "code",
      "execution_count": null,
      "metadata": {
        "id": "mRs95d6LUVEi"
      },
      "outputs": [],
      "source": [
        "model.add(layers.Flatten())\n",
        "model.add(layers.Dense(128, activation='relu'))\n",
        "model.add(layers.Dense(64, activation='relu'))\n",
        "model.add(layers.Dense(32, activation='relu'))\n",
        "model.add(layers.Dense(6))"
      ]
    },
    {
      "cell_type": "markdown",
      "source": [
        ""
      ],
      "metadata": {
        "id": "_kvQ-TZppfor"
      }
    },
    {
      "cell_type": "markdown",
      "metadata": {
        "id": "ipGiQMcR4Gtq"
      },
      "source": [
        "Here's the complete architecture of your model:"
      ]
    },
    {
      "cell_type": "code",
      "execution_count": null,
      "metadata": {
        "id": "8Yu_m-TZUWGX",
        "colab": {
          "base_uri": "https://localhost:8080/"
        },
        "outputId": "8b4337bf-2fa4-4c6c-d9df-03621005a28b"
      },
      "outputs": [
        {
          "output_type": "stream",
          "name": "stdout",
          "text": [
            "Model: \"sequential_3\"\n",
            "_________________________________________________________________\n",
            " Layer (type)                Output Shape              Param #   \n",
            "=================================================================\n",
            " conv2d_13 (Conv2D)          (None, 126, 126, 32)      896       \n",
            "                                                                 \n",
            " max_pooling2d_9 (MaxPooling  (None, 63, 63, 32)       0         \n",
            " 2D)                                                             \n",
            "                                                                 \n",
            " conv2d_14 (Conv2D)          (None, 61, 61, 64)        18496     \n",
            "                                                                 \n",
            " max_pooling2d_10 (MaxPoolin  (None, 30, 30, 64)       0         \n",
            " g2D)                                                            \n",
            "                                                                 \n",
            " conv2d_15 (Conv2D)          (None, 28, 28, 128)       73856     \n",
            "                                                                 \n",
            " max_pooling2d_11 (MaxPoolin  (None, 14, 14, 128)      0         \n",
            " g2D)                                                            \n",
            "                                                                 \n",
            " conv2d_16 (Conv2D)          (None, 10, 10, 256)       819456    \n",
            "                                                                 \n",
            " flatten_2 (Flatten)         (None, 25600)             0         \n",
            "                                                                 \n",
            " dense_7 (Dense)             (None, 128)               3276928   \n",
            "                                                                 \n",
            " dense_8 (Dense)             (None, 64)                8256      \n",
            "                                                                 \n",
            " dense_9 (Dense)             (None, 32)                2080      \n",
            "                                                                 \n",
            " dense_10 (Dense)            (None, 6)                 198       \n",
            "                                                                 \n",
            "=================================================================\n",
            "Total params: 4,200,166\n",
            "Trainable params: 4,200,166\n",
            "Non-trainable params: 0\n",
            "_________________________________________________________________\n"
          ]
        }
      ],
      "source": [
        "model.summary()"
      ]
    },
    {
      "cell_type": "markdown",
      "metadata": {
        "id": "xNKXi-Gy3RO-"
      },
      "source": [
        "The network summary shows that (4, 4, 64) outputs were flattened into vectors of shape (1024) before going through two Dense layers."
      ]
    },
    {
      "cell_type": "markdown",
      "metadata": {
        "id": "P3odqfHP4M67"
      },
      "source": [
        "### Compile and train the model"
      ]
    },
    {
      "cell_type": "code",
      "execution_count": null,
      "metadata": {
        "id": "MdDzI75PUXrG",
        "colab": {
          "base_uri": "https://localhost:8080/"
        },
        "outputId": "060cfdf3-987d-43e6-8a77-8ca2144f743a"
      },
      "outputs": [
        {
          "output_type": "stream",
          "name": "stdout",
          "text": [
            "<class 'numpy.ndarray'>\n",
            "Epoch 1/60\n",
            "8/8 [==============================] - 2s 86ms/step - loss: 1.8667 - accuracy: 0.1701 - val_loss: 1.7869 - val_accuracy: 0.1562\n",
            "Epoch 2/60\n",
            "8/8 [==============================] - 0s 28ms/step - loss: 1.7886 - accuracy: 0.1950 - val_loss: 1.7859 - val_accuracy: 0.1771\n",
            "Epoch 3/60\n",
            "8/8 [==============================] - 0s 34ms/step - loss: 1.7779 - accuracy: 0.2490 - val_loss: 1.7805 - val_accuracy: 0.1979\n",
            "Epoch 4/60\n",
            "8/8 [==============================] - 0s 29ms/step - loss: 1.7487 - accuracy: 0.2739 - val_loss: 1.7998 - val_accuracy: 0.2292\n",
            "Epoch 5/60\n",
            "8/8 [==============================] - 0s 33ms/step - loss: 1.7250 - accuracy: 0.2656 - val_loss: 1.7799 - val_accuracy: 0.2083\n",
            "Epoch 6/60\n",
            "8/8 [==============================] - 0s 29ms/step - loss: 1.6902 - accuracy: 0.3154 - val_loss: 1.7527 - val_accuracy: 0.2188\n",
            "Epoch 7/60\n",
            "8/8 [==============================] - 0s 34ms/step - loss: 1.6242 - accuracy: 0.3278 - val_loss: 1.6058 - val_accuracy: 0.3646\n",
            "Epoch 8/60\n",
            "8/8 [==============================] - 0s 29ms/step - loss: 1.4812 - accuracy: 0.4398 - val_loss: 1.6059 - val_accuracy: 0.3542\n",
            "Epoch 9/60\n",
            "8/8 [==============================] - 0s 28ms/step - loss: 1.3363 - accuracy: 0.4730 - val_loss: 1.5241 - val_accuracy: 0.4375\n",
            "Epoch 10/60\n",
            "8/8 [==============================] - 0s 33ms/step - loss: 1.1034 - accuracy: 0.5436 - val_loss: 1.4085 - val_accuracy: 0.4167\n",
            "Epoch 11/60\n",
            "8/8 [==============================] - 0s 34ms/step - loss: 0.9373 - accuracy: 0.6432 - val_loss: 1.7938 - val_accuracy: 0.3542\n",
            "Epoch 12/60\n",
            "8/8 [==============================] - 0s 33ms/step - loss: 0.8116 - accuracy: 0.7095 - val_loss: 1.4971 - val_accuracy: 0.4792\n",
            "Epoch 13/60\n",
            "8/8 [==============================] - 0s 29ms/step - loss: 0.6308 - accuracy: 0.7552 - val_loss: 1.8833 - val_accuracy: 0.4688\n",
            "Epoch 14/60\n",
            "8/8 [==============================] - 0s 33ms/step - loss: 0.5435 - accuracy: 0.8050 - val_loss: 1.7784 - val_accuracy: 0.4792\n",
            "Epoch 15/60\n",
            "8/8 [==============================] - 0s 29ms/step - loss: 0.4443 - accuracy: 0.8589 - val_loss: 2.1780 - val_accuracy: 0.4688\n",
            "Epoch 16/60\n",
            "8/8 [==============================] - 0s 29ms/step - loss: 0.3324 - accuracy: 0.8838 - val_loss: 2.5353 - val_accuracy: 0.5000\n",
            "Epoch 17/60\n",
            "8/8 [==============================] - 0s 29ms/step - loss: 0.2405 - accuracy: 0.9004 - val_loss: 3.0123 - val_accuracy: 0.4583\n",
            "Epoch 18/60\n",
            "8/8 [==============================] - 0s 29ms/step - loss: 0.2162 - accuracy: 0.9170 - val_loss: 3.0039 - val_accuracy: 0.4896\n",
            "Epoch 19/60\n",
            "8/8 [==============================] - 0s 33ms/step - loss: 0.2195 - accuracy: 0.9295 - val_loss: 3.3296 - val_accuracy: 0.5521\n",
            "Epoch 20/60\n",
            "8/8 [==============================] - 0s 28ms/step - loss: 0.1808 - accuracy: 0.9378 - val_loss: 3.1506 - val_accuracy: 0.5000\n",
            "Epoch 21/60\n",
            "8/8 [==============================] - 0s 29ms/step - loss: 0.1556 - accuracy: 0.9461 - val_loss: 3.1628 - val_accuracy: 0.4792\n",
            "Epoch 22/60\n",
            "8/8 [==============================] - 0s 29ms/step - loss: 0.1156 - accuracy: 0.9668 - val_loss: 4.6319 - val_accuracy: 0.5312\n",
            "Epoch 23/60\n",
            "8/8 [==============================] - 0s 29ms/step - loss: 0.1526 - accuracy: 0.9585 - val_loss: 4.1695 - val_accuracy: 0.4583\n",
            "Epoch 24/60\n",
            "8/8 [==============================] - 0s 34ms/step - loss: 0.1942 - accuracy: 0.9502 - val_loss: 3.1760 - val_accuracy: 0.4688\n",
            "Epoch 25/60\n",
            "8/8 [==============================] - 0s 33ms/step - loss: 0.1346 - accuracy: 0.9627 - val_loss: 3.2079 - val_accuracy: 0.5208\n",
            "Epoch 26/60\n",
            "8/8 [==============================] - 0s 33ms/step - loss: 0.1445 - accuracy: 0.9544 - val_loss: 3.3030 - val_accuracy: 0.4583\n",
            "Epoch 27/60\n",
            "8/8 [==============================] - 0s 29ms/step - loss: 0.0825 - accuracy: 0.9710 - val_loss: 2.9558 - val_accuracy: 0.5312\n",
            "Epoch 28/60\n",
            "8/8 [==============================] - 0s 29ms/step - loss: 0.0696 - accuracy: 0.9793 - val_loss: 3.7863 - val_accuracy: 0.5104\n",
            "Epoch 29/60\n",
            "8/8 [==============================] - 0s 33ms/step - loss: 0.0896 - accuracy: 0.9793 - val_loss: 3.8326 - val_accuracy: 0.5000\n",
            "Epoch 30/60\n",
            "8/8 [==============================] - 0s 29ms/step - loss: 0.0951 - accuracy: 0.9585 - val_loss: 3.8153 - val_accuracy: 0.5104\n",
            "Epoch 31/60\n",
            "8/8 [==============================] - 0s 33ms/step - loss: 0.1121 - accuracy: 0.9668 - val_loss: 4.5952 - val_accuracy: 0.4479\n",
            "Epoch 32/60\n",
            "8/8 [==============================] - 0s 29ms/step - loss: 0.1242 - accuracy: 0.9461 - val_loss: 3.5634 - val_accuracy: 0.5312\n",
            "Epoch 33/60\n",
            "8/8 [==============================] - 0s 29ms/step - loss: 0.1086 - accuracy: 0.9585 - val_loss: 3.3458 - val_accuracy: 0.4688\n",
            "Epoch 34/60\n",
            "8/8 [==============================] - 0s 29ms/step - loss: 0.1232 - accuracy: 0.9544 - val_loss: 3.4517 - val_accuracy: 0.5625\n",
            "Epoch 35/60\n",
            "8/8 [==============================] - 0s 33ms/step - loss: 0.0603 - accuracy: 0.9793 - val_loss: 3.8395 - val_accuracy: 0.4896\n",
            "Epoch 36/60\n",
            "8/8 [==============================] - 0s 28ms/step - loss: 0.1560 - accuracy: 0.9668 - val_loss: 3.2720 - val_accuracy: 0.5104\n",
            "Epoch 37/60\n",
            "8/8 [==============================] - 0s 29ms/step - loss: 0.0801 - accuracy: 0.9668 - val_loss: 3.5467 - val_accuracy: 0.5000\n",
            "Epoch 38/60\n",
            "8/8 [==============================] - 0s 29ms/step - loss: 0.0583 - accuracy: 0.9876 - val_loss: 3.5956 - val_accuracy: 0.5312\n",
            "Epoch 39/60\n",
            "8/8 [==============================] - 0s 29ms/step - loss: 0.0351 - accuracy: 0.9917 - val_loss: 4.3810 - val_accuracy: 0.5000\n",
            "Epoch 40/60\n",
            "8/8 [==============================] - 0s 29ms/step - loss: 0.0225 - accuracy: 0.9959 - val_loss: 4.7747 - val_accuracy: 0.5729\n",
            "Epoch 41/60\n",
            "8/8 [==============================] - 0s 29ms/step - loss: 0.0097 - accuracy: 1.0000 - val_loss: 4.9470 - val_accuracy: 0.5729\n",
            "Epoch 42/60\n",
            "8/8 [==============================] - 0s 29ms/step - loss: 0.0053 - accuracy: 1.0000 - val_loss: 5.1203 - val_accuracy: 0.5417\n",
            "Epoch 43/60\n",
            "8/8 [==============================] - 0s 29ms/step - loss: 0.0033 - accuracy: 1.0000 - val_loss: 5.1886 - val_accuracy: 0.5521\n",
            "Epoch 44/60\n",
            "8/8 [==============================] - 0s 34ms/step - loss: 0.0025 - accuracy: 1.0000 - val_loss: 5.2774 - val_accuracy: 0.5625\n",
            "Epoch 45/60\n",
            "8/8 [==============================] - 0s 30ms/step - loss: 0.0016 - accuracy: 1.0000 - val_loss: 5.3483 - val_accuracy: 0.5625\n",
            "Epoch 46/60\n",
            "8/8 [==============================] - 0s 34ms/step - loss: 0.0013 - accuracy: 1.0000 - val_loss: 5.4327 - val_accuracy: 0.5625\n",
            "Epoch 47/60\n",
            "8/8 [==============================] - 0s 29ms/step - loss: 0.0011 - accuracy: 1.0000 - val_loss: 5.5235 - val_accuracy: 0.5625\n",
            "Epoch 48/60\n",
            "8/8 [==============================] - 0s 30ms/step - loss: 9.4816e-04 - accuracy: 1.0000 - val_loss: 5.5823 - val_accuracy: 0.5625\n",
            "Epoch 49/60\n",
            "8/8 [==============================] - 0s 29ms/step - loss: 7.7810e-04 - accuracy: 1.0000 - val_loss: 5.6309 - val_accuracy: 0.5625\n",
            "Epoch 50/60\n",
            "8/8 [==============================] - 0s 34ms/step - loss: 6.9762e-04 - accuracy: 1.0000 - val_loss: 5.6849 - val_accuracy: 0.5625\n",
            "Epoch 51/60\n",
            "8/8 [==============================] - 0s 33ms/step - loss: 6.3415e-04 - accuracy: 1.0000 - val_loss: 5.7463 - val_accuracy: 0.5521\n",
            "Epoch 52/60\n",
            "8/8 [==============================] - 0s 33ms/step - loss: 5.3524e-04 - accuracy: 1.0000 - val_loss: 5.8185 - val_accuracy: 0.5521\n",
            "Epoch 53/60\n",
            "8/8 [==============================] - 0s 29ms/step - loss: 5.0443e-04 - accuracy: 1.0000 - val_loss: 5.8629 - val_accuracy: 0.5521\n",
            "Epoch 54/60\n",
            "8/8 [==============================] - 0s 33ms/step - loss: 4.7033e-04 - accuracy: 1.0000 - val_loss: 5.8652 - val_accuracy: 0.5521\n",
            "Epoch 55/60\n",
            "8/8 [==============================] - 0s 29ms/step - loss: 4.3883e-04 - accuracy: 1.0000 - val_loss: 5.9032 - val_accuracy: 0.5521\n",
            "Epoch 56/60\n",
            "8/8 [==============================] - 0s 29ms/step - loss: 3.8804e-04 - accuracy: 1.0000 - val_loss: 5.9424 - val_accuracy: 0.5521\n",
            "Epoch 57/60\n",
            "8/8 [==============================] - 0s 29ms/step - loss: 3.6329e-04 - accuracy: 1.0000 - val_loss: 5.9801 - val_accuracy: 0.5521\n",
            "Epoch 58/60\n",
            "8/8 [==============================] - 0s 29ms/step - loss: 3.9572e-04 - accuracy: 1.0000 - val_loss: 6.0017 - val_accuracy: 0.5521\n",
            "Epoch 59/60\n",
            "8/8 [==============================] - 0s 29ms/step - loss: 3.5115e-04 - accuracy: 1.0000 - val_loss: 6.0550 - val_accuracy: 0.5521\n",
            "Epoch 60/60\n",
            "8/8 [==============================] - 0s 28ms/step - loss: 2.9558e-04 - accuracy: 1.0000 - val_loss: 6.0909 - val_accuracy: 0.5521\n"
          ]
        }
      ],
      "source": [
        "\n",
        "model.compile(optimizer='adam',\n",
        "              loss=tf.keras.losses.SparseCategoricalCrossentropy(from_logits=True),\n",
        "              metrics=['accuracy'])\n",
        "\n",
        "print(type(train_images))\n",
        "\n",
        "test_labels = np.array(test_labels)\n",
        "train_labels = np.array(train_labels)\n",
        "\n",
        "history = model.fit(train_images, train_labels, epochs=60, \n",
        "                    validation_data=(test_images, test_labels))"
      ]
    },
    {
      "cell_type": "code",
      "source": [
        ""
      ],
      "metadata": {
        "id": "WPMQZL0M5YxI"
      },
      "execution_count": null,
      "outputs": []
    },
    {
      "cell_type": "markdown",
      "metadata": {
        "id": "jKgyC5K_4O0d"
      },
      "source": [
        "### Evaluate the model"
      ]
    },
    {
      "cell_type": "markdown",
      "source": [
        ""
      ],
      "metadata": {
        "id": "r1dtr43F_XC5"
      }
    },
    {
      "cell_type": "code",
      "execution_count": null,
      "metadata": {
        "id": "gtyDF0MKUcM7",
        "colab": {
          "base_uri": "https://localhost:8080/",
          "height": 850
        },
        "outputId": "0014291f-5e7f-4150-e38b-c877024ebaad"
      },
      "outputs": [
        {
          "output_type": "display_data",
          "data": {
            "text/plain": [
              "<Figure size 1080x576 with 1 Axes>"
            ],
            "image/png": "[encoded data removed]"
          },
          "metadata": {
            "needs_background": "light"
          }
        },
        {
          "output_type": "display_data",
          "data": {
            "text/plain": [
              "<Figure size 1080x576 with 1 Axes>"
            ],
            "image/png": "[encoded data removed]"
          },
          "metadata": {
            "needs_background": "light"
          }
        }
      ],
      "source": [
        "# plt.plot(history.history['accuracy'], label='accuracy')\n",
        "# plt.plot(history.history['val_accuracy'], label = 'val_accuracy')\n",
        "# plt.xlabel('Epoch')\n",
        "# plt.ylabel('Accuracy')\n",
        "# plt.ylim([0.5, 1])\n",
        "# plt.legend(loc='lower right')\n",
        "\n",
        "plt.figure(figsize=(15,8)) \n",
        "plt.plot(history.history['loss'])\n",
        "plt.plot(history.history['val_loss'])\n",
        "plt.title('Gráfico del Error del Entrenamiento')\n",
        "plt.ylabel('')\n",
        "plt.xlabel('epoch')\n",
        "plt.legend(['entrenamiento', 'validación'], loc='upper left')\n",
        "plt.show()\n",
        "\n",
        "plt.figure(figsize=(15,8)) \n",
        "plt.plot(history.history['accuracy'])\n",
        "plt.plot(history.history['val_accuracy'])\n",
        "plt.title('Gráfico de la Exactitud del Entrenamiento')\n",
        "plt.ylabel('')\n",
        "plt.xlabel('epoch')\n",
        "plt.legend(['entrenamiento', 'validación'], loc='upper left')\n",
        "plt.show()\n"
      ]
    },
    {
      "cell_type": "code",
      "execution_count": null,
      "metadata": {
        "id": "0LvwaKhtUdOo",
        "colab": {
          "base_uri": "https://localhost:8080/"
        },
        "outputId": "5c2f3023-ace7-4008-dd88-dd331675a08b"
      },
      "outputs": [
        {
          "output_type": "stream",
          "name": "stdout",
          "text": [
            "3/3 [==============================] - 0s 12ms/step - loss: 6.0909 - accuracy: 0.5521\n",
            "\n",
            ">Evaluación del Modelo: \n",
            "    - Error:  6.09092378616333\n",
            "    - Exactitud:  55.20833134651184\n",
            "\n",
            "\n",
            "*** Resultados con datos de Entrenamiento: \n",
            "\n",
            " Reporte de Clasificación: \n",
            "              precision    recall  f1-score   support\n",
            "\n",
            "      Bishop       1.00      1.00      1.00        47\n",
            "        King       1.00      1.00      1.00        35\n",
            "      Knight       1.00      1.00      1.00        48\n",
            "        Pawn       1.00      1.00      1.00        39\n",
            "       Queen       1.00      1.00      1.00        31\n",
            "        Rook       1.00      1.00      1.00        41\n",
            "\n",
            "    accuracy                           1.00       241\n",
            "   macro avg       1.00      1.00      1.00       241\n",
            "weighted avg       1.00      1.00      1.00       241\n",
            "\n",
            "\n",
            "Matriz de Confusión: \n",
            "          p:Bishop  p:King  p:Knight  p:Pawn  p:Queen  p:Rook\n",
            "r:Bishop        47       0         0       0        0       0\n",
            "r:King           0      35         0       0        0       0\n",
            "r:Knight         0       0        48       0        0       0\n",
            "r:Pawn           0       0         0      39        0       0\n",
            "r:Queen          0       0         0       0       31       0\n",
            "r:Rook           0       0         0       0        0      41\n",
            "\n",
            "\n",
            "*** Resultados con datos de Prueba: \n",
            "\n",
            " Reporte de Clasificación: \n",
            "              precision    recall  f1-score   support\n",
            "\n",
            "      Bishop       0.46      0.69      0.55        16\n",
            "        King       0.33      0.24      0.28        17\n",
            "      Knight       0.83      0.62      0.71        16\n",
            "        Pawn       0.62      0.50      0.56        20\n",
            "       Queen       0.50      0.50      0.50        14\n",
            "        Rook       0.61      0.85      0.71        13\n",
            "\n",
            "    accuracy                           0.55        96\n",
            "   macro avg       0.56      0.57      0.55        96\n",
            "weighted avg       0.56      0.55      0.54        96\n",
            "\n",
            "\n",
            "Matriz de Confusión: \n",
            "          p:Bishop  p:King  p:Knight  p:Pawn  p:Queen  p:Rook\n",
            "r:Bishop        11       1         0       1        2       1\n",
            "r:King           7       4         0       1        3       2\n",
            "r:Knight         2       2        10       1        0       1\n",
            "r:Pawn           3       1         2      10        2       2\n",
            "r:Queen          0       4         0       2        7       1\n",
            "r:Rook           1       0         0       1        0      11\n",
            "\n",
            "\n"
          ]
        }
      ],
      "source": [
        "\n",
        "resEval = model.evaluate(test_images,  test_labels,)\n",
        "print(\"\\n>Evaluación del Modelo: \")\n",
        "print(\"    - Error: \", resEval[0])\n",
        "print(\"    - Exactitud: \", resEval[1]*100)\n",
        "print(\"\\n\")\n",
        "\n",
        "def probarModelo(x, y, clases_map):\n",
        "\n",
        "    # procesa las imágenes de prueba con el modelo \n",
        "    predClass = model.predict(x)\n",
        "\n",
        "    # muestra los resultados con las imágenes \n",
        "    umbralClas = 0.5\n",
        "    classPreds = []\n",
        "    classReal = []\n",
        "    for i in range(len(x)):\n",
        "\n",
        "        # asigna el nombre de la clase real\n",
        "        clReal = clases_map[ y[i][0] ] \n",
        "        \n",
        "        idclPred = int( np.argmax(predClass[i], axis=0) )\n",
        "        idclPredRnd = idclPred\n",
        "\n",
        "        # asigna el nombre de la clase predecida\n",
        "        if idclPredRnd<0 or idclPredRnd>=len(clases_map):\n",
        "            clPred = \"CLASE \" + str(idclPredRnd) + \" INVÁLIDA!\"\n",
        "        else:      \n",
        "            clPred = clases_map[ idclPredRnd ]\n",
        "\n",
        "        # agrega a vevtores auxiliares\n",
        "        classReal.append( clReal )\n",
        "        classPreds.append( clPred )\n",
        "\n",
        "    # muestra reporte de clasificación\n",
        "    print(\"\\n Reporte de Clasificación: \")\n",
        "    print(classification_report(classReal, classPreds))\n",
        "\n",
        "    # muestra matriz de confusion\n",
        "    print('\\nMatriz de Confusión: ')\n",
        "    cm = confusion_matrix(classReal, classPreds, labels=clases_map)\n",
        "    cmtx = pd.DataFrame(\n",
        "        cm, \n",
        "        index=['r:{:}'.format(x) for x in clases_map], \n",
        "        columns=['p:{:}'.format(x) for x in clases_map]\n",
        "      )\n",
        "    print(cmtx)\n",
        "    print(\"\\n\")\n",
        "\n",
        "print(\"*** Resultados con datos de Entrenamiento: \")\n",
        "probarModelo(train_images, train_labels, ['Bishop', 'King', 'Knight', 'Pawn', 'Queen', 'Rook'])\n",
        "\n",
        "print(\"*** Resultados con datos de Prueba: \")\n",
        "probarModelo(test_images, test_labels, ['Bishop', 'King', 'Knight', 'Pawn', 'Queen', 'Rook'])"
      ]
    },
    {
      "cell_type": "markdown",
      "metadata": {
        "id": "8cfJ8AR03gT5"
      },
      "source": [
        "Your simple CNN has achieved a test accuracy of over 70%. Not bad for a few lines of code! For another CNN style, check out the [TensorFlow 2 quickstart for experts](https://www.tensorflow.org/tutorials/quickstart/advanced) example that uses the Keras subclassing API and `tf.GradientTape`."
      ]
    }
  ],
  "metadata": {
    "accelerator": "GPU",
    "colab": {
      "collapsed_sections": [],
      "name": "Copia de cnn.ipynb",
      "provenance": []
    },
    "kernelspec": {
      "display_name": "Python 3",
      "name": "python3"
    }
  },
  "nbformat": 4,
  "nbformat_minor": 0
}